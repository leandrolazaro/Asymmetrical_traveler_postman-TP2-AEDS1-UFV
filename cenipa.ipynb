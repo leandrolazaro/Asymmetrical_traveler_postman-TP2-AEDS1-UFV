{
  "cells": [
    {
      "cell_type": "markdown",
      "metadata": {
        "id": "view-in-github",
        "colab_type": "text"
      },
      "source": [
        "<a href=\"https://colab.research.google.com/github/leandrolazaro/Asymmetrical_traveler_postman-TP2-AEDS1-UFV/blob/master/cenipa.ipynb\" target=\"_parent\"><img src=\"https://colab.research.google.com/assets/colab-badge.svg\" alt=\"Open In Colab\"/></a>"
      ]
    },
    {
      "cell_type": "code",
      "execution_count": 2,
      "id": "a5eb231a",
      "metadata": {
        "id": "a5eb231a",
        "outputId": "3231bee9-bc82-442e-e2b3-9389d25685cc",
        "colab": {
          "base_uri": "https://localhost:8080/"
        }
      },
      "outputs": [
        {
          "output_type": "stream",
          "name": "stdout",
          "text": [
            "--2022-06-19 15:31:25--  https://raw.githubusercontent.com/MarcosVeniciu/Trabalho-Pratico-Introducao-a-Ciencia-dos-Dados/main/dados/ocorrencia.csv\n",
            "Resolving raw.githubusercontent.com (raw.githubusercontent.com)... 185.199.110.133, 185.199.111.133, 185.199.109.133, ...\n",
            "Connecting to raw.githubusercontent.com (raw.githubusercontent.com)|185.199.110.133|:443... connected.\n",
            "HTTP request sent, awaiting response... 200 OK\n",
            "Length: 788905 (770K) [text/plain]\n",
            "Saving to: ‘dados/ocorrencia.csv’\n",
            "\n",
            "ocorrencia.csv      100%[===================>] 770.42K  --.-KB/s    in 0.04s   \n",
            "\n",
            "2022-06-19 15:31:26 (17.3 MB/s) - ‘dados/ocorrencia.csv’ saved [788905/788905]\n",
            "\n",
            "--2022-06-19 15:31:26--  https://raw.githubusercontent.com/MarcosVeniciu/Trabalho-Pratico-Introducao-a-Ciencia-dos-Dados/main/dados/ocorrencia_tipo.csv\n",
            "Reusing existing connection to raw.githubusercontent.com:443.\n",
            "HTTP request sent, awaiting response... 200 OK\n",
            "Length: 445524 (435K) [text/plain]\n",
            "Saving to: ‘dados/ocorrencia_tipo.csv’\n",
            "\n",
            "ocorrencia_tipo.csv 100%[===================>] 435.08K  --.-KB/s    in 0.003s  \n",
            "\n",
            "2022-06-19 15:31:26 (153 MB/s) - ‘dados/ocorrencia_tipo.csv’ saved [445524/445524]\n",
            "\n",
            "--2022-06-19 15:31:26--  https://raw.githubusercontent.com/MarcosVeniciu/Trabalho-Pratico-Introducao-a-Ciencia-dos-Dados/main/dados/aeronave.csv\n",
            "Reusing existing connection to raw.githubusercontent.com:443.\n",
            "HTTP request sent, awaiting response... 200 OK\n",
            "Length: 1005619 (982K) [text/plain]\n",
            "Saving to: ‘dados/aeronave.csv’\n",
            "\n",
            "aeronave.csv        100%[===================>] 982.05K  --.-KB/s    in 0.01s   \n",
            "\n",
            "2022-06-19 15:31:26 (92.8 MB/s) - ‘dados/aeronave.csv’ saved [1005619/1005619]\n",
            "\n",
            "--2022-06-19 15:31:26--  https://raw.githubusercontent.com/MarcosVeniciu/Trabalho-Pratico-Introducao-a-Ciencia-dos-Dados/main/dados/fator_contribuinte.csv\n",
            "Reusing existing connection to raw.githubusercontent.com:443.\n",
            "HTTP request sent, awaiting response... 200 OK\n",
            "Length: 298532 (292K) [text/plain]\n",
            "Saving to: ‘dados/fator_contribuinte.csv’\n",
            "\n",
            "fator_contribuinte. 100%[===================>] 291.54K  --.-KB/s    in 0.004s  \n",
            "\n",
            "2022-06-19 15:31:26 (76.5 MB/s) - ‘dados/fator_contribuinte.csv’ saved [298532/298532]\n",
            "\n",
            "--2022-06-19 15:31:26--  https://raw.githubusercontent.com/MarcosVeniciu/Trabalho-Pratico-Introducao-a-Ciencia-dos-Dados/main/dados/recomendacao.csv\n",
            "Reusing existing connection to raw.githubusercontent.com:443.\n",
            "HTTP request sent, awaiting response... 200 OK\n",
            "Length: 485301 (474K) [text/plain]\n",
            "Saving to: ‘dados/recomendacao.csv’\n",
            "\n",
            "recomendacao.csv    100%[===================>] 473.93K  --.-KB/s    in 0.002s  \n",
            "\n",
            "2022-06-19 15:31:26 (238 MB/s) - ‘dados/recomendacao.csv’ saved [485301/485301]\n",
            "\n",
            "FINISHED --2022-06-19 15:31:26--\n",
            "Total wall clock time: 0.9s\n",
            "Downloaded: 5 files, 2.9M in 0.06s (46.2 MB/s)\n",
            "Looking in indexes: https://pypi.org/simple, https://us-python.pkg.dev/colab-wheels/public/simple/\n",
            "Requirement already satisfied: pandas in /usr/local/lib/python3.7/dist-packages (1.3.5)\n",
            "Requirement already satisfied: python-dateutil>=2.7.3 in /usr/local/lib/python3.7/dist-packages (from pandas) (2.8.2)\n",
            "Requirement already satisfied: pytz>=2017.3 in /usr/local/lib/python3.7/dist-packages (from pandas) (2022.1)\n",
            "Requirement already satisfied: numpy>=1.17.3 in /usr/local/lib/python3.7/dist-packages (from pandas) (1.21.6)\n",
            "Requirement already satisfied: six>=1.5 in /usr/local/lib/python3.7/dist-packages (from python-dateutil>=2.7.3->pandas) (1.15.0)\n",
            "Looking in indexes: https://pypi.org/simple, https://us-python.pkg.dev/colab-wheels/public/simple/\n",
            "Requirement already satisfied: matplotlib in /usr/local/lib/python3.7/dist-packages (3.2.2)\n",
            "Requirement already satisfied: cycler>=0.10 in /usr/local/lib/python3.7/dist-packages (from matplotlib) (0.11.0)\n",
            "Requirement already satisfied: numpy>=1.11 in /usr/local/lib/python3.7/dist-packages (from matplotlib) (1.21.6)\n",
            "Requirement already satisfied: kiwisolver>=1.0.1 in /usr/local/lib/python3.7/dist-packages (from matplotlib) (1.4.3)\n",
            "Requirement already satisfied: pyparsing!=2.0.4,!=2.1.2,!=2.1.6,>=2.0.1 in /usr/local/lib/python3.7/dist-packages (from matplotlib) (3.0.9)\n",
            "Requirement already satisfied: python-dateutil>=2.1 in /usr/local/lib/python3.7/dist-packages (from matplotlib) (2.8.2)\n",
            "Requirement already satisfied: typing-extensions in /usr/local/lib/python3.7/dist-packages (from kiwisolver>=1.0.1->matplotlib) (4.1.1)\n",
            "Requirement already satisfied: six>=1.5 in /usr/local/lib/python3.7/dist-packages (from python-dateutil>=2.1->matplotlib) (1.15.0)\n"
          ]
        }
      ],
      "source": [
        "!mkdir -p dados\n",
        "!wget https://raw.githubusercontent.com/MarcosVeniciu/Trabalho-Pratico-Introducao-a-Ciencia-dos-Dados/main/dados/ocorrencia.csv https://raw.githubusercontent.com/MarcosVeniciu/Trabalho-Pratico-Introducao-a-Ciencia-dos-Dados/main/dados/ocorrencia_tipo.csv https://raw.githubusercontent.com/MarcosVeniciu/Trabalho-Pratico-Introducao-a-Ciencia-dos-Dados/main/dados/aeronave.csv https://raw.githubusercontent.com/MarcosVeniciu/Trabalho-Pratico-Introducao-a-Ciencia-dos-Dados/main/dados/fator_contribuinte.csv https://raw.githubusercontent.com/MarcosVeniciu/Trabalho-Pratico-Introducao-a-Ciencia-dos-Dados/main/dados/recomendacao.csv -P dados\n",
        "!pip install pandas\n",
        "!pip install matplotlib"
      ]
    },
    {
      "cell_type": "code",
      "execution_count": 37,
      "id": "e00ecb28",
      "metadata": {
        "id": "e00ecb28"
      },
      "outputs": [],
      "source": [
        "import pandas as pd\n",
        "import matplotlib as plt"
      ]
    },
    {
      "cell_type": "code",
      "execution_count": 4,
      "id": "be883143",
      "metadata": {
        "id": "be883143"
      },
      "outputs": [],
      "source": [
        "df_ocorrencia = pd.read_csv(\"dados/ocorrencia.csv\", sep=\";\")\n",
        "df_ocorrencia_tipo = pd.read_csv(\"dados/ocorrencia_tipo.csv\", sep=\";\")\n",
        "df_aeronave = pd.read_csv(\"dados/aeronave.csv\", sep=\";\")\n",
        "df_fator_contribuinte = pd.read_csv(\"dados/fator_contribuinte.csv\", sep=\";\")\n",
        "df_recomendacao = pd.read_csv(\"dados/recomendacao.csv\", sep=\";\")"
      ]
    },
    {
      "cell_type": "markdown",
      "id": "8a769ada",
      "metadata": {
        "id": "8a769ada"
      },
      "source": [
        "## Limpeza dos dados"
      ]
    },
    {
      "cell_type": "markdown",
      "id": "2ee680f0",
      "metadata": {
        "id": "2ee680f0"
      },
      "source": [
        "### Removendo codigos de ocorrência redundantes"
      ]
    },
    {
      "cell_type": "code",
      "execution_count": 5,
      "id": "ecdb0ee0",
      "metadata": {
        "id": "ecdb0ee0"
      },
      "outputs": [],
      "source": [
        "df_ocorrencia_tipo.rename(columns={\"codigo_ocorrencia1\": \"codigo_ocorrencia\"}, inplace=True)\n",
        "df_aeronave.rename(columns={\"codigo_ocorrencia2\": \"codigo_ocorrencia\"}, inplace=True)\n",
        "df_fator_contribuinte.rename(columns={\"codigo_ocorrencia3\": \"codigo_ocorrencia\"}, inplace=True)\n",
        "df_recomendacao.rename(columns={\"codigo_ocorrencia4\": \"codigo_ocorrencia\"}, inplace=True)\n",
        "df_ocorrencia.drop(\n",
        "    columns=[\n",
        "        \"codigo_ocorrencia1\",\n",
        "        \"codigo_ocorrencia2\",\n",
        "        \"codigo_ocorrencia3\",\n",
        "        \"codigo_ocorrencia4\",\n",
        "    ],\n",
        "    inplace=True,\n",
        ")"
      ]
    },
    {
      "cell_type": "markdown",
      "id": "94f83d71",
      "metadata": {
        "id": "94f83d71"
      },
      "source": [
        "## Questões\n",
        "\n",
        "1.  Qual é o tipo de ocorrência mais comum? <br />\n",
        "2.  Que tipo de ocorrência está mais associado a fatalidades? <br />\n",
        "3.  O que poderia ser feito para evitar outras ocorrências? <br />\n",
        "4.  Existe uma relação entre a fase de operação e fatalidades? <br />\n",
        "5.  Existe uma relação entre a fabricante da aeronave e o tipo de ocorrência? <br />\n",
        "6.  Existe uma relação entre o modelo da aeronave e o tipo de ocorrência? <br />\n",
        "7.  Existe uma relação entre o fator contribuinte e o tipo de ocorrência? <br />\n",
        "8.  Existe algum componente das aeronaves que está associado com os acidentes? <br />\n",
        "9.  Existe alguma região associada com um elevado número de acidentes? <br />\n",
        "10. Quais os acidentes mais frequentes por região do país? <br />\n",
        "11. O horário possui relação com os acidentes? <br />\n",
        "12. Qual a relação entre o tipo de aeronave e a frequência dos acidentes? <br />\n",
        "13. Qual a relação entre tipo de acidente e a fatalidade? <br />\n",
        "14. Qual a frequência de acidentes em relação aos mesese? <br />\n",
        "15. A quantidade de acidentes aumentou o diminuiu ao longo dos anos observados? <br />\n",
        "16. A quantidade de fatalidades aumentou o diminuiu ao longo dos anos observados? <br />\n",
        "17. Qual a porcentagem de acidente que possuem fatalidades? <br />\n",
        "18. Qual a porcentagem de acidentes por operação particular, regular e taxi áereo? <br />\n",
        "19. Qual as fases de operação com maior taxa de acidentes? <br />\n",
        "20. Qual a taxa de acidentes em relação ao ano de fabricação das aeronaves? <br />\n"
      ]
    },
    {
      "cell_type": "markdown",
      "id": "58110326",
      "metadata": {
        "id": "58110326"
      },
      "source": [
        "### 01. Qual é o tipo de ocorrência mais comum?"
      ]
    },
    {
      "cell_type": "code",
      "execution_count": 6,
      "id": "198f368f",
      "metadata": {
        "id": "198f368f",
        "outputId": "83f00b48-78bb-4623-f6c7-467929c8c7c2",
        "colab": {
          "base_uri": "https://localhost:8080/",
          "height": 483
        }
      },
      "outputs": [
        {
          "output_type": "display_data",
          "data": {
            "text/plain": [
              "<Figure size 720x576 with 1 Axes>"
            ],
            "image/png": "[encoded data removed]"
          },
          "metadata": {
            "needs_background": "light"
          }
        }
      ],
      "source": [
        "ocorrencia_tipo_count = df_ocorrencia_tipo[\"ocorrencia_tipo\"].value_counts()\n",
        "\n",
        "ax = ocorrencia_tipo_count[:10].plot.barh(figsize=(10, 8))\n",
        "ax.invert_yaxis()"
      ]
    },
    {
      "cell_type": "markdown",
      "id": "41ec3079",
      "metadata": {
        "id": "41ec3079"
      },
      "source": [
        "Podemos ver que o tipo de ocorrência mais comum é a **falha do motor em voo**, seguido da **falha ou mau funcionamento de sistema / componente**."
      ]
    },
    {
      "cell_type": "markdown",
      "id": "f74c8940",
      "metadata": {
        "id": "f74c8940"
      },
      "source": [
        "### 02. Que tipo de ocorrência está mais associado a fatalidades? "
      ]
    },
    {
      "cell_type": "code",
      "execution_count": 7,
      "id": "f79592f2",
      "metadata": {
        "id": "f79592f2",
        "outputId": "45ca890e-ad7c-45fa-94cc-9724258bab28",
        "colab": {
          "base_uri": "https://localhost:8080/",
          "height": 483
        }
      },
      "outputs": [
        {
          "output_type": "display_data",
          "data": {
            "text/plain": [
              "<Figure size 720x576 with 1 Axes>"
            ],
            "image/png": "[encoded data removed]"
          },
          "metadata": {
            "needs_background": "light"
          }
        }
      ],
      "source": [
        "codigo_fatalidades = df_aeronave.loc[df_aeronave[\"aeronave_fatalidades_total\"] > 0][\n",
        "    \"codigo_ocorrencia\"\n",
        "].drop_duplicates()\n",
        "\n",
        "df_ocorrencia_tipo_com_fatalidades = df_ocorrencia_tipo.loc[\n",
        "    df_ocorrencia_tipo[\"codigo_ocorrencia\"].isin(codigo_fatalidades)\n",
        "]\n",
        "\n",
        "ax = (\n",
        "    df_ocorrencia_tipo_com_fatalidades[\"ocorrencia_tipo\"]\n",
        "    .value_counts()[:10]\n",
        "    .plot.barh(figsize=(10, 8))\n",
        ")\n",
        "ax.invert_yaxis()"
      ]
    },
    {
      "cell_type": "markdown",
      "id": "6d4fcbbd",
      "metadata": {
        "id": "6d4fcbbd"
      },
      "source": [
        "Pelo gráfico é notável que a **perda de controle em voo** é o tipo de ocorrência em que mais ocorrem fatalidades."
      ]
    },
    {
      "cell_type": "markdown",
      "source": [
        "###(8) Existe algum componente das aeronaves que está associado com os acidentes? "
      ],
      "metadata": {
        "id": "hpEjYorxjr_w"
      },
      "id": "hpEjYorxjr_w"
    },
    {
      "cell_type": "code",
      "source": [
        "codigo_ocorrencia = df_aeronave[\n",
        "    \"codigo_ocorrencia\"\n",
        "].drop_duplicates()\n",
        "\n",
        "df_ocorrencia_aeronave = df_aeronave.loc[\n",
        "    df_aeronave[\"codigo_ocorrencia\"].isin(codigo_ocorrencia)\n",
        "]\n",
        "\n",
        "ax = (\n",
        "    (df_ocorrencia_aeronave[\"aeronave_motor_tipo\"].value_counts()[:10]/df_aeronave.value_counts().sum())\n",
        "    .plot.barh(figsize=(10, 8))\n",
        ")\n",
        "ax.invert_yaxis()"
      ],
      "metadata": {
        "colab": {
          "base_uri": "https://localhost:8080/",
          "height": 483
        },
        "id": "9AeMAw4rjz4v",
        "outputId": "eeb0fbe1-98c5-426f-b805-c1274e6543dc"
      },
      "id": "9AeMAw4rjz4v",
      "execution_count": 45,
      "outputs": [
        {
          "output_type": "display_data",
          "data": {
            "text/plain": [
              "<Figure size 720x576 with 1 Axes>"
            ],
            "image/png": "[encoded data removed]"
          },
          "metadata": {
            "needs_background": "light"
          }
        }
      ]
    },
    {
      "cell_type": "markdown",
      "source": [
        "### (9) Existe alguma região associada com um elevado número de acidentes?"
      ],
      "metadata": {
        "id": "L4hyGUBourE4"
      },
      "id": "L4hyGUBourE4"
    },
    {
      "cell_type": "code",
      "source": [
        "ax = (\n",
        "    (df_ocorrencia[\"ocorrencia_cidade\"].value_counts()[:10])\n",
        "    .plot.barh(figsize=(10, 8))\n",
        ")\n",
        "ax.invert_yaxis()"
      ],
      "metadata": {
        "colab": {
          "base_uri": "https://localhost:8080/",
          "height": 483
        },
        "id": "0gmiyFf1uu-Q",
        "outputId": "448efaf5-a199-4e5e-ebbb-10d481ff5b29"
      },
      "id": "0gmiyFf1uu-Q",
      "execution_count": 48,
      "outputs": [
        {
          "output_type": "display_data",
          "data": {
            "text/plain": [
              "<Figure size 720x576 with 1 Axes>"
            ],
            "image/png": "[encoded data removed]"
          },
          "metadata": {
            "needs_background": "light"
          }
        }
      ]
    },
    {
      "cell_type": "code",
      "source": [
        "plt.figure(figsize=(15,16))\n"
      ],
      "metadata": {
        "id": "KCWcxYaDxyPX"
      },
      "id": "KCWcxYaDxyPX",
      "execution_count": null,
      "outputs": []
    }
  ],
  "metadata": {
    "kernelspec": {
      "display_name": "Python 3.10.5 64-bit",
      "language": "python",
      "name": "python3"
    },
    "language_info": {
      "codemirror_mode": {
        "name": "ipython",
        "version": 3
      },
      "file_extension": ".py",
      "mimetype": "text/x-python",
      "name": "python",
      "nbconvert_exporter": "python",
      "pygments_lexer": "ipython3",
      "version": "3.10.5"
    },
    "vscode": {
      "interpreter": {
        "hash": "e7370f93d1d0cde622a1f8e1c04877d8463912d04d973331ad4851f04de6915a"
      }
    },
    "colab": {
      "name": "cenipa.ipynb",
      "provenance": [],
      "include_colab_link": true
    }
  },
  "nbformat": 4,
  "nbformat_minor": 5
}